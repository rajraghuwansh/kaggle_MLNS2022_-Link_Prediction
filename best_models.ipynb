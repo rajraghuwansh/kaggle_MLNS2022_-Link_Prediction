{
 "cells": [
  {
   "cell_type": "code",
   "execution_count": 42,
   "id": "87c4660b",
   "metadata": {},
   "outputs": [],
   "source": [
    "import random\n",
    "import pandas as pd\n",
    "import numpy as np\n",
    "import igraph\n",
    "from sklearn import svm\n",
    "from sklearn.feature_extraction.text import TfidfVectorizer\n",
    "from sklearn.metrics.pairwise import linear_kernel\n",
    "from sklearn import preprocessing\n",
    "import nltk\n",
    "import csv\n",
    "import lightgbm as lgb\n",
    "import xgboost as xgb\n",
    "from sklearn.neural_network import MLPClassifier\n",
    "import matplotlib.pyplot as plt\n",
    "from sklearn.metrics import accuracy_score,f1_score\n",
    "from sklearn.model_selection import KFold\n",
    "from sklearn.model_selection import cross_val_score\n",
    "from sklearn.model_selection import train_test_split"
   ]
  },
  {
   "cell_type": "code",
   "execution_count": 49,
   "id": "895054aa",
   "metadata": {},
   "outputs": [],
   "source": [
    "node_information = pd.read_csv('node_information.csv', header=None, names=['ID', 'Year', 'Title', 'Authors', 'Journal', 'Abstract'])\n",
    "training_set = pd.read_csv('training_set.txt', header=None, names=['Target', 'Source', 'Edge'], delim_whitespace=True)\n",
    "testing_set = pd.read_csv('testing_set.txt', header=None, names=['Target', 'Source'], delim_whitespace=True)"
   ]
  },
  {
   "cell_type": "code",
   "execution_count": 50,
   "id": "84fedd9e",
   "metadata": {},
   "outputs": [
    {
     "name": "stdout",
     "output_type": "stream",
     "text": [
      "(615512, 25) (32648, 25)\n"
     ]
    }
   ],
   "source": [
    "train_basic =  np.load(\"train_features_full.npy\")\n",
    "test_basic  =   np.load(\"test_features_full.npy\")\n",
    "print(train_basic.shape,test_basic.shape)"
   ]
  },
  {
   "cell_type": "code",
   "execution_count": 51,
   "id": "9e19a42f",
   "metadata": {},
   "outputs": [
    {
     "name": "stdout",
     "output_type": "stream",
     "text": [
      "(615512, 21) (32648, 21)\n"
     ]
    }
   ],
   "source": [
    "#more features created using feature generation-2 notebook\n",
    "train = pd.read_csv('train_complete.csv',header=0)\n",
    "test = pd.read_csv('test_complete.csv',header=0)\n",
    "features = ['Title overlap', 'Abstract overlap', 'Temporal difference', 'Common authors', 'Common journal',\n",
    "            'Cosine similarity', 'Authors in abstract', 'LSA distance', # Semantic features\n",
    "            'Betweenness centrality', 'Same cluster', 'Page rank', 'Ressource allocation', 'Jaccard coefficient',\n",
    "            'Adamic Adar', 'Preferential attachment', 'Target_indegree', 'Target_outdegree',\n",
    "            'Source_indegree', 'Source_outdegree', 'Common_in', 'Common_out' #Topological features\n",
    "           ]\n",
    "train = train[features]\n",
    "test =  test[features]\n",
    "train_2 = np.array(train)\n",
    "test_2 = np.array(test)\n",
    "print(train_2.shape,test_2.shape)"
   ]
  },
  {
   "cell_type": "code",
   "execution_count": 52,
   "id": "a302cc5b",
   "metadata": {},
   "outputs": [
    {
     "name": "stdout",
     "output_type": "stream",
     "text": [
      "(615512, 46)\n",
      "(32648, 46)\n"
     ]
    }
   ],
   "source": [
    "train_add = pd.read_csv('train_total.csv',header=0)\n",
    "test_add = pd.read_csv('test_total.csv',header=0)\n",
    "add_features=['Overlap_title', 'Overlap_abstract', 'Overlap_journal',\n",
    "       'Common_authors', 'Common_authors_prob', 'Common_journal_prob',\n",
    "       'Date_diff', 'Target_indegree', 'Target_outdegree', 'Target_scc',\n",
    "       'Target_wcc', 'Target_scc_plus', 'Source_indegree', 'Source_outdegree',\n",
    "       'Source_scc', 'Source_wcc', 'Source_scc_plus', 'Common_in',\n",
    "       'Common_out', 'Transitive_ts', 'Transitive_st', 'Friend_measure_st',\n",
    "       'Friend_measure_ts', 'Scc', 'Wcc', 'Scc_plus', 'Len_path_st',\n",
    "       'Len_path_ts', 'Target_degree', 'Target_nh_subgraph_edges',\n",
    "       'Target_nh_subgraph_edges_plus', 'Source_degree',\n",
    "       'Source_nh_subgraph_edges', 'Source_nh_subgraph_edges_plus',\n",
    "       'Target_core', 'Target_clustering', 'Target_pagerank', 'Source_core',\n",
    "       'Source_clustering', 'Source_pagerank', 'Common_friends',\n",
    "       'Total_friends', 'Friends_measure', 'Sub_nh_edges', 'Sub_nh_edges_plus',\n",
    "       'Len_path']\n",
    "\n",
    "train_add = train_add[add_features]\n",
    "test_add = test_add[add_features]\n",
    "train_3 = np.array(train_add)\n",
    "test_3 = np.array(test_add)\n",
    "print(train_3.shape)\n",
    "print(test_3.shape)"
   ]
  },
  {
   "cell_type": "code",
   "execution_count": 53,
   "id": "3f8ccd72",
   "metadata": {},
   "outputs": [
    {
     "name": "stdout",
     "output_type": "stream",
     "text": [
      "(615512, 92) (32648, 92) (615512,)\n"
     ]
    }
   ],
   "source": [
    "a = train_basic\n",
    "b = train_2\n",
    "c = train_3\n",
    "train_tot=np.concatenate((a, b,c), axis=1)\n",
    "a = test_basic\n",
    "b = test_2\n",
    "c = test_3\n",
    "test_tot=np.concatenate((a, b,c), axis=1)\n",
    "y_train = np.array(training_set['Edge'].values)\n",
    "print(train_tot.shape,test_tot.shape,y_train.shape)"
   ]
  },
  {
   "cell_type": "markdown",
   "id": "02703722",
   "metadata": {},
   "source": [
    "#### Note for certain features it is possible that thet are already created in basic feature generation yet they are recalculated again in feature generation iteration 2 and advance graph feature generation because of different textual processing, stop words and stemming technique different technique for graph generation,creation of user defined function instead of using library packages  and hence they yeild a different result"
   ]
  },
  {
   "cell_type": "markdown",
   "id": "95d3a96c",
   "metadata": {},
   "source": [
    "###### using additional graph features semantic features and toplogical features"
   ]
  },
  {
   "cell_type": "code",
   "execution_count": 22,
   "id": "936ac8fe",
   "metadata": {},
   "outputs": [
    {
     "name": "stdout",
     "output_type": "stream",
     "text": [
      "(615512, 66)\n",
      "(32648, 66)\n",
      "(615512,)\n"
     ]
    }
   ],
   "source": [
    "training_features = pd.concat([train,train_add],axis=1)\n",
    "testing_features = pd.concat([test,test_add],axis=1)\n",
    "labels_array = y_train\n",
    "print(training_features.shape)\n",
    "print(testing_features.shape)\n",
    "print(labels_array.shape)"
   ]
  },
  {
   "cell_type": "code",
   "execution_count": 23,
   "id": "5999157c",
   "metadata": {},
   "outputs": [],
   "source": [
    "# Hyper paramter tuned light gbm features obtained"
   ]
  },
  {
   "cell_type": "code",
   "execution_count": 24,
   "id": "0ba8f275",
   "metadata": {},
   "outputs": [
    {
     "data": {
      "text/plain": [
       "LGBMClassifier(feature_fraction=0.8, lambda_l1=0.9, lambda_l2=0.9,\n",
       "               learning_rate=0.007, max_depth=5, min_data_in_leaf=100,\n",
       "               n_estimators=1250, num_leaves=30, objective='binary',\n",
       "               task='train')"
      ]
     },
     "execution_count": 24,
     "metadata": {},
     "output_type": "execute_result"
    }
   ],
   "source": [
    "lgb_params = {\n",
    "    'learning_rate': 0.007,\n",
    "        'max_depth': 5,\n",
    "        'task': 'train',\n",
    "        'boosting_type': 'gbdt',\n",
    "        'objective': 'binary',\n",
    "         'feature_fraction': 0.8,\n",
    "         'num_leaves':30,\n",
    "        'min_data_in_leaf':100,\n",
    "        'lambda_l1': 0.8,\n",
    "        'lambda_l2':0.9,\n",
    "        'n_estimators':1250}\n",
    "lgb_class = lgb.LGBMClassifier()\n",
    "lgb_class.set_params(**lgb_params) "
   ]
  },
  {
   "cell_type": "code",
   "execution_count": 25,
   "id": "0cda0d26",
   "metadata": {},
   "outputs": [],
   "source": [
    "from sklearn.model_selection import KFold\n",
    "K = 5\n",
    "cv = KFold(n_splits = K, shuffle = True, random_state=0)\n",
    "\n",
    "X = training_features\n",
    "X_test = testing_features\n",
    "y = labels_array"
   ]
  },
  {
   "cell_type": "markdown",
   "id": "87adebf6",
   "metadata": {},
   "source": [
    " ### Scaling the data"
   ]
  },
  {
   "cell_type": "code",
   "execution_count": 26,
   "id": "d529405a",
   "metadata": {},
   "outputs": [],
   "source": [
    "min_max_scaler = preprocessing.MinMaxScaler()\n",
    "training_features = min_max_scaler.fit_transform(training_features)\n",
    "testing_features = min_max_scaler.transform(testing_features)"
   ]
  },
  {
   "cell_type": "code",
   "execution_count": 27,
   "id": "c586b1a8",
   "metadata": {},
   "outputs": [
    {
     "name": "stdout",
     "output_type": "stream",
     "text": [
      "Fold  0\n",
      "[LightGBM] [Warning] feature_fraction is set=0.8, colsample_bytree=1.0 will be ignored. Current value: feature_fraction=0.8\n",
      "[LightGBM] [Warning] min_data_in_leaf is set=100, min_child_samples=20 will be ignored. Current value: min_data_in_leaf=100\n",
      "[LightGBM] [Warning] lambda_l1 is set=0.9, reg_alpha=0.0 will be ignored. Current value: lambda_l1=0.9\n",
      "[LightGBM] [Warning] lambda_l2 is set=0.9, reg_lambda=0.0 will be ignored. Current value: lambda_l2=0.9\n"
     ]
    },
    {
     "name": "stderr",
     "output_type": "stream",
     "text": [
      "C:\\Users\\rkroc\\Anaconda3\\lib\\site-packages\\lightgbm\\sklearn.py:736: UserWarning: 'verbose' argument is deprecated and will be removed in a future release of LightGBM. Pass 'log_evaluation()' callback via 'callbacks' argument instead.\n",
      "  _log_warning(\"'verbose' argument is deprecated and will be removed in a future release of LightGBM. \"\n"
     ]
    },
    {
     "name": "stdout",
     "output_type": "stream",
     "text": [
      "[50]\tvalid_0's binary_logloss: 0.456337\n",
      "[100]\tvalid_0's binary_logloss: 0.323182\n",
      "[150]\tvalid_0's binary_logloss: 0.240501\n",
      "[200]\tvalid_0's binary_logloss: 0.186718\n",
      "[250]\tvalid_0's binary_logloss: 0.150927\n",
      "[300]\tvalid_0's binary_logloss: 0.126777\n",
      "[350]\tvalid_0's binary_logloss: 0.110158\n",
      "[400]\tvalid_0's binary_logloss: 0.0985017\n",
      "[450]\tvalid_0's binary_logloss: 0.090298\n",
      "[500]\tvalid_0's binary_logloss: 0.0841417\n",
      "[550]\tvalid_0's binary_logloss: 0.0794039\n",
      "[600]\tvalid_0's binary_logloss: 0.0760115\n",
      "[650]\tvalid_0's binary_logloss: 0.0734509\n",
      "[700]\tvalid_0's binary_logloss: 0.0712635\n",
      "[750]\tvalid_0's binary_logloss: 0.0693191\n",
      "[800]\tvalid_0's binary_logloss: 0.0675535\n",
      "[850]\tvalid_0's binary_logloss: 0.06614\n",
      "[900]\tvalid_0's binary_logloss: 0.0648385\n",
      "[950]\tvalid_0's binary_logloss: 0.0637573\n",
      "[1000]\tvalid_0's binary_logloss: 0.0628076\n",
      "[1050]\tvalid_0's binary_logloss: 0.0619921\n",
      "[1100]\tvalid_0's binary_logloss: 0.06125\n",
      "[1150]\tvalid_0's binary_logloss: 0.0606014\n",
      "[1200]\tvalid_0's binary_logloss: 0.0599981\n",
      "[1250]\tvalid_0's binary_logloss: 0.0594615\n",
      "0.9813669225609302\n",
      "Fold  1\n"
     ]
    },
    {
     "name": "stderr",
     "output_type": "stream",
     "text": [
      "C:\\Users\\rkroc\\Anaconda3\\lib\\site-packages\\lightgbm\\sklearn.py:736: UserWarning: 'verbose' argument is deprecated and will be removed in a future release of LightGBM. Pass 'log_evaluation()' callback via 'callbacks' argument instead.\n",
      "  _log_warning(\"'verbose' argument is deprecated and will be removed in a future release of LightGBM. \"\n"
     ]
    },
    {
     "name": "stdout",
     "output_type": "stream",
     "text": [
      "[LightGBM] [Warning] feature_fraction is set=0.8, colsample_bytree=1.0 will be ignored. Current value: feature_fraction=0.8\n",
      "[LightGBM] [Warning] min_data_in_leaf is set=100, min_child_samples=20 will be ignored. Current value: min_data_in_leaf=100\n",
      "[LightGBM] [Warning] lambda_l1 is set=0.9, reg_alpha=0.0 will be ignored. Current value: lambda_l1=0.9\n",
      "[LightGBM] [Warning] lambda_l2 is set=0.9, reg_lambda=0.0 will be ignored. Current value: lambda_l2=0.9\n",
      "[50]\tvalid_0's binary_logloss: 0.457\n",
      "[100]\tvalid_0's binary_logloss: 0.324001\n",
      "[150]\tvalid_0's binary_logloss: 0.241398\n",
      "[200]\tvalid_0's binary_logloss: 0.187848\n",
      "[250]\tvalid_0's binary_logloss: 0.152209\n",
      "[300]\tvalid_0's binary_logloss: 0.128016\n",
      "[350]\tvalid_0's binary_logloss: 0.111528\n",
      "[400]\tvalid_0's binary_logloss: 0.0999638\n",
      "[450]\tvalid_0's binary_logloss: 0.0916884\n",
      "[500]\tvalid_0's binary_logloss: 0.0855592\n",
      "[550]\tvalid_0's binary_logloss: 0.0807738\n",
      "[600]\tvalid_0's binary_logloss: 0.0774323\n",
      "[650]\tvalid_0's binary_logloss: 0.0748209\n",
      "[700]\tvalid_0's binary_logloss: 0.0726201\n",
      "[750]\tvalid_0's binary_logloss: 0.0706667\n",
      "[800]\tvalid_0's binary_logloss: 0.0690028\n",
      "[850]\tvalid_0's binary_logloss: 0.0675817\n",
      "[900]\tvalid_0's binary_logloss: 0.0663333\n",
      "[950]\tvalid_0's binary_logloss: 0.0652241\n",
      "[1000]\tvalid_0's binary_logloss: 0.0642565\n",
      "[1050]\tvalid_0's binary_logloss: 0.0634302\n",
      "[1100]\tvalid_0's binary_logloss: 0.0627141\n",
      "[1150]\tvalid_0's binary_logloss: 0.0620602\n",
      "[1200]\tvalid_0's binary_logloss: 0.0614641\n",
      "[1250]\tvalid_0's binary_logloss: 0.0608752\n",
      "0.9810697611577319\n",
      "Fold  2\n",
      "[LightGBM] [Warning] feature_fraction is set=0.8, colsample_bytree=1.0 will be ignored. Current value: feature_fraction=0.8\n",
      "[LightGBM] [Warning] min_data_in_leaf is set=100, min_child_samples=20 will be ignored. Current value: min_data_in_leaf=100\n",
      "[LightGBM] [Warning] lambda_l1 is set=0.9, reg_alpha=0.0 will be ignored. Current value: lambda_l1=0.9\n",
      "[LightGBM] [Warning] lambda_l2 is set=0.9, reg_lambda=0.0 will be ignored. Current value: lambda_l2=0.9\n"
     ]
    },
    {
     "name": "stderr",
     "output_type": "stream",
     "text": [
      "C:\\Users\\rkroc\\Anaconda3\\lib\\site-packages\\lightgbm\\sklearn.py:736: UserWarning: 'verbose' argument is deprecated and will be removed in a future release of LightGBM. Pass 'log_evaluation()' callback via 'callbacks' argument instead.\n",
      "  _log_warning(\"'verbose' argument is deprecated and will be removed in a future release of LightGBM. \"\n"
     ]
    },
    {
     "name": "stdout",
     "output_type": "stream",
     "text": [
      "[50]\tvalid_0's binary_logloss: 0.457148\n",
      "[100]\tvalid_0's binary_logloss: 0.323897\n",
      "[150]\tvalid_0's binary_logloss: 0.241193\n",
      "[200]\tvalid_0's binary_logloss: 0.187384\n",
      "[250]\tvalid_0's binary_logloss: 0.151577\n",
      "[300]\tvalid_0's binary_logloss: 0.127418\n",
      "[350]\tvalid_0's binary_logloss: 0.110805\n",
      "[400]\tvalid_0's binary_logloss: 0.0991453\n",
      "[450]\tvalid_0's binary_logloss: 0.0909479\n",
      "[500]\tvalid_0's binary_logloss: 0.0847978\n",
      "[550]\tvalid_0's binary_logloss: 0.0801677\n",
      "[600]\tvalid_0's binary_logloss: 0.0768347\n",
      "[650]\tvalid_0's binary_logloss: 0.0743093\n",
      "[700]\tvalid_0's binary_logloss: 0.0720775\n",
      "[750]\tvalid_0's binary_logloss: 0.0700838\n",
      "[800]\tvalid_0's binary_logloss: 0.0683651\n",
      "[850]\tvalid_0's binary_logloss: 0.0669573\n",
      "[900]\tvalid_0's binary_logloss: 0.0657583\n",
      "[950]\tvalid_0's binary_logloss: 0.0646589\n",
      "[1000]\tvalid_0's binary_logloss: 0.0637049\n",
      "[1050]\tvalid_0's binary_logloss: 0.0628604\n",
      "[1100]\tvalid_0's binary_logloss: 0.0621119\n",
      "[1150]\tvalid_0's binary_logloss: 0.0614452\n",
      "[1200]\tvalid_0's binary_logloss: 0.0608153\n",
      "[1250]\tvalid_0's binary_logloss: 0.0602073\n",
      "0.9814199247751924\n",
      "Fold  3\n"
     ]
    },
    {
     "name": "stderr",
     "output_type": "stream",
     "text": [
      "C:\\Users\\rkroc\\Anaconda3\\lib\\site-packages\\lightgbm\\sklearn.py:736: UserWarning: 'verbose' argument is deprecated and will be removed in a future release of LightGBM. Pass 'log_evaluation()' callback via 'callbacks' argument instead.\n",
      "  _log_warning(\"'verbose' argument is deprecated and will be removed in a future release of LightGBM. \"\n"
     ]
    },
    {
     "name": "stdout",
     "output_type": "stream",
     "text": [
      "[LightGBM] [Warning] feature_fraction is set=0.8, colsample_bytree=1.0 will be ignored. Current value: feature_fraction=0.8\n",
      "[LightGBM] [Warning] min_data_in_leaf is set=100, min_child_samples=20 will be ignored. Current value: min_data_in_leaf=100\n",
      "[LightGBM] [Warning] lambda_l1 is set=0.9, reg_alpha=0.0 will be ignored. Current value: lambda_l1=0.9\n",
      "[LightGBM] [Warning] lambda_l2 is set=0.9, reg_lambda=0.0 will be ignored. Current value: lambda_l2=0.9\n",
      "[50]\tvalid_0's binary_logloss: 0.456479\n",
      "[100]\tvalid_0's binary_logloss: 0.323268\n",
      "[150]\tvalid_0's binary_logloss: 0.240449\n",
      "[200]\tvalid_0's binary_logloss: 0.186614\n",
      "[250]\tvalid_0's binary_logloss: 0.150771\n",
      "[300]\tvalid_0's binary_logloss: 0.126454\n",
      "[350]\tvalid_0's binary_logloss: 0.109717\n",
      "[400]\tvalid_0's binary_logloss: 0.0980942\n",
      "[450]\tvalid_0's binary_logloss: 0.0898603\n",
      "[500]\tvalid_0's binary_logloss: 0.0836691\n",
      "[550]\tvalid_0's binary_logloss: 0.0788162\n",
      "[600]\tvalid_0's binary_logloss: 0.0753552\n",
      "[650]\tvalid_0's binary_logloss: 0.0727258\n",
      "[700]\tvalid_0's binary_logloss: 0.0705355\n",
      "[750]\tvalid_0's binary_logloss: 0.0685379\n",
      "[800]\tvalid_0's binary_logloss: 0.066825\n",
      "[850]\tvalid_0's binary_logloss: 0.0653865\n",
      "[900]\tvalid_0's binary_logloss: 0.0641653\n",
      "[950]\tvalid_0's binary_logloss: 0.063123\n",
      "[1000]\tvalid_0's binary_logloss: 0.0621459\n",
      "[1050]\tvalid_0's binary_logloss: 0.0613124\n",
      "[1100]\tvalid_0's binary_logloss: 0.0606003\n",
      "[1150]\tvalid_0's binary_logloss: 0.0599602\n",
      "[1200]\tvalid_0's binary_logloss: 0.0593549\n",
      "[1250]\tvalid_0's binary_logloss: 0.058792\n",
      "0.9817454850399833\n",
      "Fold  4\n"
     ]
    },
    {
     "name": "stderr",
     "output_type": "stream",
     "text": [
      "C:\\Users\\rkroc\\Anaconda3\\lib\\site-packages\\lightgbm\\sklearn.py:736: UserWarning: 'verbose' argument is deprecated and will be removed in a future release of LightGBM. Pass 'log_evaluation()' callback via 'callbacks' argument instead.\n",
      "  _log_warning(\"'verbose' argument is deprecated and will be removed in a future release of LightGBM. \"\n"
     ]
    },
    {
     "name": "stdout",
     "output_type": "stream",
     "text": [
      "[LightGBM] [Warning] feature_fraction is set=0.8, colsample_bytree=1.0 will be ignored. Current value: feature_fraction=0.8\n",
      "[LightGBM] [Warning] min_data_in_leaf is set=100, min_child_samples=20 will be ignored. Current value: min_data_in_leaf=100\n",
      "[LightGBM] [Warning] lambda_l1 is set=0.9, reg_alpha=0.0 will be ignored. Current value: lambda_l1=0.9\n",
      "[LightGBM] [Warning] lambda_l2 is set=0.9, reg_lambda=0.0 will be ignored. Current value: lambda_l2=0.9\n",
      "[50]\tvalid_0's binary_logloss: 0.456545\n",
      "[100]\tvalid_0's binary_logloss: 0.323344\n",
      "[150]\tvalid_0's binary_logloss: 0.240526\n",
      "[200]\tvalid_0's binary_logloss: 0.186715\n",
      "[250]\tvalid_0's binary_logloss: 0.150928\n",
      "[300]\tvalid_0's binary_logloss: 0.126576\n",
      "[350]\tvalid_0's binary_logloss: 0.109772\n",
      "[400]\tvalid_0's binary_logloss: 0.0980318\n",
      "[450]\tvalid_0's binary_logloss: 0.0897051\n",
      "[500]\tvalid_0's binary_logloss: 0.083363\n",
      "[550]\tvalid_0's binary_logloss: 0.0786002\n",
      "[600]\tvalid_0's binary_logloss: 0.0751258\n",
      "[650]\tvalid_0's binary_logloss: 0.0724311\n",
      "[700]\tvalid_0's binary_logloss: 0.0702495\n",
      "[750]\tvalid_0's binary_logloss: 0.0682207\n",
      "[800]\tvalid_0's binary_logloss: 0.0664099\n",
      "[850]\tvalid_0's binary_logloss: 0.0649579\n",
      "[900]\tvalid_0's binary_logloss: 0.0637729\n",
      "[950]\tvalid_0's binary_logloss: 0.0627267\n",
      "[1000]\tvalid_0's binary_logloss: 0.0617194\n",
      "[1050]\tvalid_0's binary_logloss: 0.0608805\n",
      "[1100]\tvalid_0's binary_logloss: 0.0601738\n",
      "[1150]\tvalid_0's binary_logloss: 0.0594815\n",
      "[1200]\tvalid_0's binary_logloss: 0.0588947\n",
      "[1250]\tvalid_0's binary_logloss: 0.058351\n",
      "0.9819829264639807\n",
      "Total score \n",
      "0.9815170039995638\n",
      "[0.9813669225609302, 0.9810697611577319, 0.9814199247751924, 0.9817454850399833, 0.9819829264639807]\n",
      "Wall time: 3min 29s\n"
     ]
    }
   ],
   "source": [
    "%%time\n",
    "sumf1=0\n",
    "pred_test=0\n",
    "scores=[]\n",
    "from sklearn.model_selection import KFold\n",
    "K = 5\n",
    "cv = KFold(n_splits = K, shuffle = True, random_state=0)\n",
    "\n",
    "X = training_features\n",
    "X_test = testing_features\n",
    "y = labels_array\n",
    "for i, (idx_train, idx_val) in enumerate(cv.split(X)):\n",
    "    print(\"Fold \", i )\n",
    "    X_train = X[idx_train]\n",
    "    y_train = y[idx_train]\n",
    "    X_valid = X[idx_val]\n",
    "    y_valid = y[idx_val]\n",
    "    lgb_class.fit(X_train, y_train, verbose=50, eval_set=(X_valid, y_valid))\n",
    "    pred=lgb_class.predict_proba(X_valid)\n",
    "    pred = np.argmax(pred, axis=1)\n",
    "    pred_test_fold = lgb_class.predict_proba(X_test)\n",
    "    pred_test+=pred_test_fold\n",
    "    score=f1_score(pred,y_valid)\n",
    "    scores.append(score)\n",
    "    print(score)\n",
    "    sumf1 +=score\n",
    "sumf1 = sumf1/K\n",
    "print(\"Total score \")\n",
    "print(sumf1)\n",
    "print(scores)"
   ]
  },
  {
   "cell_type": "code",
   "execution_count": 46,
   "id": "3c7363c7",
   "metadata": {},
   "outputs": [],
   "source": [
    "predictions_lgb = list(lgb_class.predict(testing_features))\n",
    "predictions_lgb = zip(range(len(testing_set)), predictions_lgb)\n",
    "test_kaggle = pd.DataFrame(predictions_lgb)\n",
    "sub = test_kaggle.copy()\n",
    "sub['id']=sub.index\n",
    "sub['category'] = sub[1]\n",
    "sub = sub[['id', 'category']]\n",
    "sub.to_csv(\"LGBM_tuned.csv\",index=False)\n",
    "#pd.read_csv('sub_LGBM.csv')"
   ]
  },
  {
   "cell_type": "code",
   "execution_count": 30,
   "id": "900e3f18",
   "metadata": {},
   "outputs": [
    {
     "data": {
      "image/png": "[encoded data removed]",
      "text/plain": [
       "<Figure size 432x432 with 1 Axes>"
      ]
     },
     "metadata": {
      "needs_background": "light"
     },
     "output_type": "display_data"
    }
   ],
   "source": [
    "import matplotlib.pyplot as plt\n",
    "import seaborn as sns\n",
    "import warnings\n",
    "warnings.simplefilter(action='ignore', category=FutureWarning)\n",
    "feature_imp = pd.DataFrame(sorted(zip(lgb_class.feature_importances_,features)), columns=['Value','Feature']).sort_values(by='Value',ascending=False)\n",
    "\n",
    "plt.figure(figsize=(6,6))\n",
    "sns.barplot(x=\"Value\", y=\"Feature\", data=feature_imp.sort_values(by=\"Value\", ascending=False))\n",
    "plt.title('LightGBM Features (avg over folds)')\n",
    "plt.tight_layout()\n",
    "plt.show()"
   ]
  },
  {
   "cell_type": "markdown",
   "id": "0cd7b65d",
   "metadata": {},
   "source": [
    "### Best scoring model for kaggle"
   ]
  },
  {
   "cell_type": "code",
   "execution_count": 48,
   "id": "c1af98fd",
   "metadata": {},
   "outputs": [
    {
     "name": "stdout",
     "output_type": "stream",
     "text": [
      "Iteration 1, loss = 0.07287233\n",
      "Iteration 2, loss = 0.06226998\n",
      "Iteration 3, loss = 0.05993556\n",
      "Iteration 4, loss = 0.05888471\n",
      "Iteration 5, loss = 0.05786364\n",
      "Iteration 6, loss = 0.05711964\n",
      "Iteration 7, loss = 0.05667357\n",
      "Iteration 8, loss = 0.05618423\n",
      "Iteration 9, loss = 0.05578814\n",
      "Iteration 10, loss = 0.05560508\n",
      "Iteration 11, loss = 0.05525880\n",
      "Iteration 12, loss = 0.05500978\n",
      "Iteration 13, loss = 0.05466047\n",
      "Iteration 14, loss = 0.05449379\n",
      "Iteration 15, loss = 0.05433586\n",
      "Iteration 16, loss = 0.05422975\n",
      "Iteration 17, loss = 0.05408793\n",
      "Iteration 18, loss = 0.05404247\n",
      "Iteration 19, loss = 0.05382798\n",
      "Iteration 20, loss = 0.05359645\n",
      "Iteration 21, loss = 0.05350923\n",
      "Iteration 22, loss = 0.05342464\n",
      "Iteration 23, loss = 0.05321260\n",
      "Iteration 24, loss = 0.05313832\n",
      "Iteration 25, loss = 0.05314481\n",
      "Iteration 26, loss = 0.05296655\n",
      "Iteration 27, loss = 0.05280177\n",
      "Iteration 28, loss = 0.05282349\n",
      "Iteration 29, loss = 0.05261201\n",
      "Iteration 30, loss = 0.05251158\n",
      "Iteration 31, loss = 0.05248052\n",
      "Iteration 32, loss = 0.05246293\n",
      "Iteration 33, loss = 0.05237769\n",
      "Iteration 34, loss = 0.05229323\n",
      "Iteration 35, loss = 0.05204703\n",
      "Iteration 36, loss = 0.05216338\n",
      "Iteration 37, loss = 0.05202625\n",
      "Iteration 38, loss = 0.05190895\n",
      "Iteration 39, loss = 0.05192269\n",
      "Iteration 40, loss = 0.05182740\n",
      "Iteration 41, loss = 0.05179176\n",
      "Iteration 42, loss = 0.05170121\n",
      "Iteration 43, loss = 0.05156412\n",
      "Iteration 44, loss = 0.05156218\n",
      "Iteration 45, loss = 0.05137371\n",
      "Iteration 46, loss = 0.05150192\n",
      "Iteration 47, loss = 0.05135912\n",
      "Iteration 48, loss = 0.05148814\n",
      "Iteration 49, loss = 0.05129360\n",
      "Iteration 50, loss = 0.05118432\n",
      "Iteration 51, loss = 0.05110184\n",
      "Iteration 52, loss = 0.05106970\n",
      "Iteration 53, loss = 0.05104715\n",
      "Iteration 54, loss = 0.05099298\n",
      "Iteration 55, loss = 0.05084348\n",
      "Iteration 56, loss = 0.05088194\n",
      "Iteration 57, loss = 0.05075117\n",
      "Iteration 58, loss = 0.05078698\n",
      "Iteration 59, loss = 0.05064747\n",
      "Iteration 60, loss = 0.05061342\n",
      "Iteration 61, loss = 0.05047912\n",
      "Iteration 62, loss = 0.05056037\n",
      "Iteration 63, loss = 0.05054715\n",
      "Iteration 64, loss = 0.05048019\n",
      "Iteration 65, loss = 0.05045540\n",
      "Iteration 66, loss = 0.05052034\n",
      "Iteration 67, loss = 0.05035884\n",
      "Iteration 68, loss = 0.05040334\n",
      "Iteration 69, loss = 0.05039977\n",
      "Iteration 70, loss = 0.05020131\n",
      "Iteration 71, loss = 0.05013405\n",
      "Iteration 72, loss = 0.05023534\n",
      "Iteration 73, loss = 0.05011125\n",
      "Iteration 74, loss = 0.04996862\n",
      "Iteration 75, loss = 0.05011602\n",
      "Iteration 76, loss = 0.05005630\n",
      "Iteration 77, loss = 0.05001832\n",
      "Iteration 78, loss = 0.04992170\n",
      "Iteration 79, loss = 0.04989491\n",
      "Iteration 80, loss = 0.04990613\n",
      "Iteration 81, loss = 0.04987622\n",
      "Iteration 82, loss = 0.04991331\n",
      "Iteration 83, loss = 0.04965908\n",
      "Iteration 84, loss = 0.04979229\n",
      "Iteration 85, loss = 0.04970427\n",
      "Iteration 86, loss = 0.04991421\n",
      "Iteration 87, loss = 0.04979706\n",
      "Iteration 88, loss = 0.04965006\n",
      "Iteration 89, loss = 0.04962886\n",
      "Iteration 90, loss = 0.04966177\n",
      "Iteration 91, loss = 0.04957138\n",
      "Iteration 92, loss = 0.04943273\n",
      "Iteration 93, loss = 0.04952767\n",
      "Iteration 94, loss = 0.04937067\n",
      "Iteration 95, loss = 0.04959282\n",
      "Iteration 96, loss = 0.04953811\n",
      "Iteration 97, loss = 0.04934573\n",
      "Iteration 98, loss = 0.04946494\n",
      "Iteration 99, loss = 0.04940782\n",
      "Iteration 100, loss = 0.04934299\n",
      "Iteration 101, loss = 0.04929382\n",
      "Iteration 102, loss = 0.04933037\n",
      "Iteration 103, loss = 0.04910246\n",
      "Iteration 104, loss = 0.04915796\n",
      "Iteration 105, loss = 0.04923668\n",
      "Iteration 106, loss = 0.04912567\n",
      "Iteration 107, loss = 0.04920010\n",
      "Iteration 108, loss = 0.04910202\n",
      "Iteration 109, loss = 0.04913832\n",
      "Iteration 110, loss = 0.04892298\n",
      "Iteration 111, loss = 0.04917986\n",
      "Iteration 112, loss = 0.04902447\n",
      "Iteration 113, loss = 0.04901583\n",
      "Iteration 114, loss = 0.04908771\n",
      "Iteration 115, loss = 0.04890626\n",
      "Iteration 116, loss = 0.04893756\n",
      "Iteration 117, loss = 0.04894810\n",
      "Iteration 118, loss = 0.04893085\n",
      "Iteration 119, loss = 0.04878083\n",
      "Iteration 120, loss = 0.04875734\n",
      "Iteration 121, loss = 0.04881007\n",
      "Iteration 122, loss = 0.04891077\n",
      "Iteration 123, loss = 0.04887078\n",
      "Iteration 124, loss = 0.04882522\n",
      "Iteration 125, loss = 0.04870146\n",
      "Iteration 126, loss = 0.04872211\n",
      "Iteration 127, loss = 0.04884081\n",
      "Iteration 128, loss = 0.04867890\n",
      "Iteration 129, loss = 0.04865243\n",
      "Iteration 130, loss = 0.04876202\n",
      "Iteration 131, loss = 0.04854909\n",
      "Iteration 132, loss = 0.04866919\n",
      "Iteration 133, loss = 0.04852782\n",
      "Iteration 134, loss = 0.04866785\n",
      "Iteration 135, loss = 0.04857991\n",
      "Iteration 136, loss = 0.04859336\n",
      "Iteration 137, loss = 0.04865299\n",
      "Iteration 138, loss = 0.04858846\n",
      "Iteration 139, loss = 0.04857791\n",
      "Iteration 140, loss = 0.04839828\n",
      "Iteration 141, loss = 0.04843890\n",
      "Iteration 142, loss = 0.04852758\n",
      "Iteration 143, loss = 0.04825398\n",
      "Iteration 144, loss = 0.04835998\n",
      "Iteration 145, loss = 0.04848967\n",
      "Iteration 146, loss = 0.04845536\n",
      "Iteration 147, loss = 0.04841201\n",
      "Iteration 148, loss = 0.04844965\n",
      "Iteration 149, loss = 0.04843674\n",
      "Iteration 150, loss = 0.04832449\n",
      "Iteration 151, loss = 0.04843506\n",
      "Iteration 152, loss = 0.04830187\n",
      "Iteration 153, loss = 0.04834023\n",
      "Iteration 154, loss = 0.04821627\n",
      "Training loss did not improve more than tol=0.000050 for 10 consecutive epochs. Stopping.\n"
     ]
    }
   ],
   "source": [
    "test_features = preprocessing.scale(test_tot)\n",
    "train_features = preprocessing.scale(train_tot)\n",
    "\n",
    "clf = MLPClassifier(solver='adam', alpha=1.94e-3,activation=\"relu\",\n",
    "            hidden_layer_sizes=(72,36), tol=5e-5, max_iter=250, verbose=1)\n",
    "history = clf.fit(train_features,labels_array)\n",
    "pred = list(clf.predict(test_features))\n",
    "\n",
    "predictions= zip(range(len(test_features)), pred)\n",
    "\n",
    "## write predictions to .csv file suitable for Kaggle\n",
    "with open(\"predictions_final.csv\",\"w\",newline=\"\") as pred1: #used for final leader board standing\n",
    "    fieldnames = ['id', 'category']\n",
    "    csv_out = csv.writer(pred1)\n",
    "    csv_out.writerow(fieldnames)\n",
    "    for row in predictions:\n",
    "        csv_out.writerow(row)"
   ]
  },
  {
   "cell_type": "code",
   "execution_count": 59,
   "id": "1ddbf1ef",
   "metadata": {},
   "outputs": [
    {
     "data": {
      "text/plain": [
       "0.9861546557895663"
      ]
     },
     "execution_count": 59,
     "metadata": {},
     "output_type": "execute_result"
    }
   ],
   "source": [
    "f1_score(labels_array,clf.predict(train_features))"
   ]
  },
  {
   "cell_type": "code",
   "execution_count": 65,
   "id": "17e8b38d",
   "metadata": {},
   "outputs": [
    {
     "data": {
      "image/png": "[encoded data removed]",
      "text/plain": [
       "<Figure size 432x288 with 1 Axes>"
      ]
     },
     "metadata": {
      "needs_background": "light"
     },
     "output_type": "display_data"
    }
   ],
   "source": [
    "plt.plot(clf.loss_curve_,'r')\n",
    "plt.xlabel(\"iteration\")\n",
    "plt.ylabel(\"Loss\")\n",
    "plt.title(\"MCP Loss Evolution\")\n",
    "plt.grid()\n",
    "plt.show()"
   ]
  },
  {
   "cell_type": "code",
   "execution_count": null,
   "id": "2971a708",
   "metadata": {},
   "outputs": [],
   "source": []
  }
 ],
 "metadata": {
  "kernelspec": {
   "display_name": "Python 3",
   "language": "python",
   "name": "python3"
  },
  "language_info": {
   "codemirror_mode": {
    "name": "ipython",
    "version": 3
   },
   "file_extension": ".py",
   "mimetype": "text/x-python",
   "name": "python",
   "nbconvert_exporter": "python",
   "pygments_lexer": "ipython3",
   "version": "3.8.8"
  }
 },
 "nbformat": 4,
 "nbformat_minor": 5
}
